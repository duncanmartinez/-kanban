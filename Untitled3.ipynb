{
  "nbformat": 4,
  "nbformat_minor": 0,
  "metadata": {
    "colab": {
      "provenance": [],
      "authorship_tag": "ABX9TyNliIEvdJk1Wsle5lZFfm/j",
      "include_colab_link": true
    },
    "kernelspec": {
      "name": "python3",
      "display_name": "Python 3"
    },
    "language_info": {
      "name": "python"
    }
  },
  "cells": [
    {
      "cell_type": "markdown",
      "metadata": {
        "id": "view-in-github",
        "colab_type": "text"
      },
      "source": [
        "<a href=\"https://colab.research.google.com/github/dunca2022/-kanban/blob/main/Untitled3.ipynb\" target=\"_parent\"><img src=\"https://colab.research.google.com/assets/colab-badge.svg\" alt=\"Open In Colab\"/></a>"
      ]
    },
    {
      "cell_type": "code",
      "execution_count": 6,
      "metadata": {
        "id": "fXmJq0RrQXfc",
        "colab": {
          "base_uri": "https://localhost:8080/"
        },
        "outputId": "b59f2148-20c6-4450-dcde-b0e1c60212d5"
      },
      "outputs": [
        {
          "output_type": "stream",
          "name": "stdout",
          "text": [
            "a es menor que 50!\n",
            "b es menor que 11!\n"
          ]
        }
      ],
      "source": [
        "a  =  5\n",
        "b  =  4 \n",
        "\n",
        "if a < 50:\n",
        "    \n",
        "    print(\"a es menor que 50!\") \n",
        "\n",
        "elif a > 10:\n",
        "       \n",
        "       print(\"a es mayor que 10!\")\n",
        "\n",
        "elif a < 25:\n",
        "        print(\"a es menor 25!\")\n",
        "\n",
        "else:\n",
        "\n",
        "       print(\"a es igual que b\")\n",
        "\n",
        "\n",
        "if b <  11:\n",
        "\n",
        "      print(\"b es menor que 11!\")\n",
        "\n",
        "elif b  >  13:\n",
        "\n",
        "      print(\"es mayor que 13!\") \n",
        "\n",
        "elif b < 12:\n",
        "\n",
        "      print(\"b es menor que 12!\")\n",
        "\n",
        "else:\n",
        "\n",
        "      print(\"b es igual que 4\")\n",
        "\n",
        "\n"
      ]
    }
  ]
}