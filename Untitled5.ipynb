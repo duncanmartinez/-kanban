{
  "nbformat": 4,
  "nbformat_minor": 0,
  "metadata": {
    "colab": {
      "provenance": [],
      "authorship_tag": "ABX9TyOEwMwMuSe+kJBkHhZE8mCT",
      "include_colab_link": true
    },
    "kernelspec": {
      "name": "python3",
      "display_name": "Python 3"
    },
    "language_info": {
      "name": "python"
    }
  },
  "cells": [
    {
      "cell_type": "markdown",
      "metadata": {
        "id": "view-in-github",
        "colab_type": "text"
      },
      "source": [
        "<a href=\"https://colab.research.google.com/github/dunca2022/-kanban/blob/main/Untitled5.ipynb\" target=\"_parent\"><img src=\"https://colab.research.google.com/assets/colab-badge.svg\" alt=\"Open In Colab\"/></a>"
      ]
    },
    {
      "cell_type": "code",
      "execution_count": 1,
      "metadata": {
        "colab": {
          "base_uri": "https://localhost:8080/",
          "height": 35
        },
        "id": "sTFXfMMRhXRe",
        "outputId": "58bee487-95a2-438a-9078-89dbbd9d32fb"
      },
      "outputs": [
        {
          "output_type": "execute_result",
          "data": {
            "text/plain": [
              "'bucle white'"
            ],
            "application/vnd.google.colaboratory.intrinsic+json": {
              "type": "string"
            }
          },
          "metadata": {},
          "execution_count": 1
        }
      ],
      "source": [
        "paises = [(\"Rusia\", 17.1), (\"Canadá\", 9.9), (\"Paraguay\", 1.6), (\"EE.UU.\", 9.5), (\"Brasil\", 8.5), (\"Australia\", 7.7), (\"India\", 3.3), (\"Argentina\", 2.8), (\"Kazajistán\", 2.7), (\"Argelia\", 2.4)]\n",
        "\n",
        "\"bucle white\""
      ]
    }
  ]
}