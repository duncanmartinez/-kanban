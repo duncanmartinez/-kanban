{
  "nbformat": 4,
  "nbformat_minor": 0,
  "metadata": {
    "colab": {
      "provenance": [],
      "authorship_tag": "ABX9TyMwRJV0SmTDJcykcfTOhzv3",
      "include_colab_link": true
    },
    "kernelspec": {
      "name": "python3",
      "display_name": "Python 3"
    },
    "language_info": {
      "name": "python"
    }
  },
  "cells": [
    {
      "cell_type": "markdown",
      "metadata": {
        "id": "view-in-github",
        "colab_type": "text"
      },
      "source": [
        "<a href=\"https://colab.research.google.com/github/dunca2022/-kanban/blob/main/Untitled5.ipynb\" target=\"_parent\"><img src=\"https://colab.research.google.com/assets/colab-badge.svg\" alt=\"Open In Colab\"/></a>"
      ]
    },
    {
      "cell_type": "code",
      "source": [
        "1. Mostrar la lista de países de América del Sur y su población en millones de habitantes usando un bucle y el siguiente diccionario:\n",
        "\n",
        "poblaciones = {\"Argentina\": 45, \"Bolivia\": 11, \"Brasil\": 211, \"Chile\": 19, \"Colombia\": 50, \"Ecuador\": 17, \"Guyana\": 0.8, \"Paraguay\": 7, \"Perú\": 32, \"Suriname\": 0.6, \"Uruguay\": 3.5, \"Venezuela\": 28}\n",
        "\n"
      ],
      "metadata": {
        "id": "SpTFFfz9zF60"
      },
      "execution_count": null,
      "outputs": []
    },
    {
      "cell_type": "code",
      "execution_count": null,
      "metadata": {
        "colab": {
          "base_uri": "https://localhost:8080/"
        },
        "id": "GKeEltAB79yS",
        "outputId": "4103fd60-3eff-4d0d-f946-4f5a44d71f6a"
      },
      "outputs": [
        {
          "output_type": "stream",
          "name": "stdout",
          "text": [
            "La lista de los países de América del Sur y su población es:\n",
            "Argentina 45.000.000\n",
            "Bolivia 11.000.000\n",
            "Brasil 211.000.000\n",
            "Chile 19.000.000\n",
            "Colombia 50.000.000\n",
            "Ecuador 17.000.000\n",
            "Guyana 800.000.0\n",
            "Paraguay 7.000.000\n",
            "Perú 32.000.000\n",
            "Suriname 600.000.0\n",
            "Uruguay 3.500.000.0\n",
            "Venezuela 28.000.000\n"
          ]
        }
      ],
      "source": [
        "print(\"La lista de los países de América del Sur y su población es:\")\n",
        "for key in poblaciones:\n",
        "\n",
        "    print(key, ('{:,}' .format(\n",
        "        (poblaciones[key]) * 1000000).replace(',', '.')))\n"
      ]
    }
  ]
}